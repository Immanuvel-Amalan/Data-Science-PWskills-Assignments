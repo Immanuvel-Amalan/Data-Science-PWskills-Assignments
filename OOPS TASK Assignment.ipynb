{
 "cells": [
  {
   "cell_type": "markdown",
   "id": "ff7ccb11",
   "metadata": {},
   "source": [
    "Q1, Create a vehicle class with an init method having instance variables as name_of_vehicle, max_speed\n",
    "and average_of_vehicle."
   ]
  },
  {
   "cell_type": "code",
   "execution_count": 14,
   "id": "ec9db78a",
   "metadata": {},
   "outputs": [],
   "source": [
    "class Vehicle:\n",
    "    def __init__(self,name_of_vehicle,max_speed,average_of_vehicle):\n",
    "        self.name_of_vehicle=name_of_vehicle\n",
    "        self.max_speed=max_speed\n",
    "        self.average_of_vehicle=average_of_vehicle"
   ]
  },
  {
   "cell_type": "markdown",
   "id": "c6600955",
   "metadata": {},
   "source": [
    "Q2. Create a child class car from the vehicle class created in Que 1, which will inherit the vehicle class.\n",
    "Create a method named seating_capacity which takes capacity as an argument and returns the name of\n",
    "the vehicle and its seating capacity."
   ]
  },
  {
   "cell_type": "code",
   "execution_count": 15,
   "id": "c17d959a",
   "metadata": {},
   "outputs": [
    {
     "name": "stdout",
     "output_type": "stream",
     "text": [
      "('BMW', 5)\n"
     ]
    }
   ],
   "source": [
    "class Car(Vehicle):\n",
    "    \n",
    "    def __init__(self,name_of_vehicle,max_speed,average_of_vehicle):\n",
    "        Vehicle.__init__(self,name_of_vehicle,max_speed,average_of_vehicle)\n",
    "    def seating_capacity(self,capacity):\n",
    "        return self.name_of_vehicle,capacity\n",
    "    \n",
    "carObject=Car(\"BMW\",250,4.0)\n",
    "print(carObject.seating_capacity(5))\n"
   ]
  },
  {
   "cell_type": "markdown",
   "id": "e4758a95",
   "metadata": {},
   "source": [
    "Q3. What is multiple inheritance? Write a python code to demonstrate multiple inheritance."
   ]
  },
  {
   "cell_type": "markdown",
   "id": "ba2ba8d1",
   "metadata": {},
   "source": [
    "class is derived from more than one base class it is called multiple Inheritance."
   ]
  },
  {
   "cell_type": "code",
   "execution_count": 24,
   "id": "c3ca96f6",
   "metadata": {},
   "outputs": [
    {
     "name": "stdout",
     "output_type": "stream",
     "text": [
      "Karunya CSE Immanuvel 103\n"
     ]
    }
   ],
   "source": [
    "class Institution:\n",
    "    institutionName=\"Karunya\"\n",
    "    course=\"CSE\"\n",
    "    \n",
    "class Student:\n",
    "    studentName=\"Immanuvel\"\n",
    "    studnetNumber=103\n",
    "\n",
    "class Person(Institution,Student):\n",
    "    pass\n",
    "\n",
    "Imm=Person()\n",
    "print(Imm.institutionName,Imm.course,Imm.studentName,Imm.studnetNumber)"
   ]
  },
  {
   "cell_type": "markdown",
   "id": "4ee9a20c",
   "metadata": {},
   "source": [
    "Q4. What are getter and setter in python? Create a class and create a getter and a setter method in this\n",
    "class."
   ]
  },
  {
   "cell_type": "markdown",
   "id": "3509937e",
   "metadata": {},
   "source": [
    "Setter - Used to set values to class variables\n",
    ",Getter - User to return the values in class variables"
   ]
  },
  {
   "cell_type": "code",
   "execution_count": 29,
   "id": "ab2a3bc3",
   "metadata": {},
   "outputs": [
    {
     "name": "stdout",
     "output_type": "stream",
     "text": [
      "Karunya\n",
      "CSE\n"
     ]
    }
   ],
   "source": [
    "class Institution1:\n",
    "    institutionName1=\"\"\n",
    "    course1=\"\"\n",
    "    \n",
    "    def setInstitutionName1(self,institutionName1):\n",
    "        self.institutionName1=institutionName1\n",
    "    def setCourse1(self,course1):\n",
    "        self.course1=course1\n",
    "    def getInstitutionName1(self):\n",
    "        return self.institutionName1\n",
    "    def getCourse1(self):\n",
    "        return self.course1\n",
    "    \n",
    "obj=Institution1()\n",
    "obj.setInstitutionName1(\"Karunya\")\n",
    "obj.setCourse1(\"CSE\")\n",
    "print(obj.getInstitutionName1())\n",
    "print(obj.getCourse1())"
   ]
  },
  {
   "cell_type": "markdown",
   "id": "4a14b8f6",
   "metadata": {},
   "source": [
    "Q5.What is method overriding in python? Write a python code to demonstrate method overriding."
   ]
  },
  {
   "cell_type": "markdown",
   "id": "440258e4",
   "metadata": {},
   "source": [
    "subclass can have a customized implementation of a method already supplied by superclasses this\n",
    "is known as method overriding."
   ]
  },
  {
   "cell_type": "code",
   "execution_count": 32,
   "id": "f31fe345",
   "metadata": {},
   "outputs": [
    {
     "name": "stdout",
     "output_type": "stream",
     "text": [
      "I have life!\n",
      "Good!\n"
     ]
    }
   ],
   "source": [
    "class Livingthings ():  \n",
    "    def display(self):  \n",
    "        print (\"Good!\")\n",
    "class Nonlivingthings(Livingthings):   \n",
    "    def say(self):  \n",
    "        print (\"Dont have life\")  \n",
    "class Robot (Nonlivingthings):   \n",
    "    def say(self):  \n",
    "        print (\"I have life!\")           \n",
    "obj=Robot()     \n",
    "obj.say()  \n",
    "obj.display()  "
   ]
  },
  {
   "cell_type": "code",
   "execution_count": null,
   "id": "836de9bf",
   "metadata": {},
   "outputs": [],
   "source": []
  }
 ],
 "metadata": {
  "kernelspec": {
   "display_name": "Python 3 (ipykernel)",
   "language": "python",
   "name": "python3"
  },
  "language_info": {
   "codemirror_mode": {
    "name": "ipython",
    "version": 3
   },
   "file_extension": ".py",
   "mimetype": "text/x-python",
   "name": "python",
   "nbconvert_exporter": "python",
   "pygments_lexer": "ipython3",
   "version": "3.10.9"
  }
 },
 "nbformat": 4,
 "nbformat_minor": 5
}
