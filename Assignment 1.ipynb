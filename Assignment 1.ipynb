{
 "cells": [
  {
   "cell_type": "markdown",
   "id": "0e466a61-df9d-4e36-a123-2d4219d52351",
   "metadata": {},
   "source": [
    "Q1. Create one variable containing following type of data:\n",
    "(i) string\n",
    "(ii) list\n",
    "(iii) float\n",
    "(iv) tuple"
   ]
  },
  {
   "cell_type": "code",
   "execution_count": 2,
   "id": "cdbc5c8d-29de-4c18-93b2-471af1f60038",
   "metadata": {},
   "outputs": [],
   "source": [
    "string_var=\"python\"\n",
    "list_var=[1,2,3,\"python\",1.0,2.0,[4,5]]\n",
    "float_var=5.6\n",
    "tuple_var=(1,2,3,4,5,'python')"
   ]
  },
  {
   "cell_type": "markdown",
   "id": "7ce8b5b4-caa1-4789-bb5e-329edf35b97b",
   "metadata": {},
   "source": [
    "Q2. Given are some following variables containing data:\n",
    "(i) var1 = ‘ ‘\n",
    "(ii) var2 = ‘[ DS , ML , Python]’\n",
    "(iii) var3 = [ ‘DS’ , ’ML’ , ‘Python’ ]\n",
    "(iv) var4 = 1.\n",
    "What will be the data type of the above given variable."
   ]
  },
  {
   "cell_type": "markdown",
   "id": "b02e82c5-83f0-4c8c-99b5-b0bbf6286572",
   "metadata": {},
   "source": [
    "1. String\n",
    "2. String\n",
    "3. List\n",
    "4. Int"
   ]
  },
  {
   "cell_type": "markdown",
   "id": "cdce6cea-ebd5-4ba1-a223-840c57a2b565",
   "metadata": {},
   "source": [
    "Q3. Explain the use of the following operators using an example:\n",
    "(i) /\n",
    "(ii) %\n",
    "(iii) //\n",
    "(iv) **"
   ]
  },
  {
   "cell_type": "code",
   "execution_count": 11,
   "id": "5f1f83d7-c3a4-4667-a178-bb56ce3a3796",
   "metadata": {},
   "outputs": [
    {
     "name": "stdout",
     "output_type": "stream",
     "text": [
      "2.0\n",
      "0\n",
      "2\n",
      "4\n"
     ]
    }
   ],
   "source": [
    "#1. Division operator - 10/5 = 2.0\n",
    "print(10/5)\n",
    "#2. Modulo operator - 10%5 = 0\n",
    "print(10%5)\n",
    "#3. Floor division - 10//5 = 2\n",
    "print(10//5)\n",
    "#4. Power operator - 2**2 = 4\n",
    "print(2**2)"
   ]
  },
  {
   "cell_type": "raw",
   "id": "1096e8a9-1485-44aa-85b8-8700220ac242",
   "metadata": {},
   "source": [
    "Q4. Create a list of length 10 of your choice containing multiple types of data. Using for loop print the\n",
    "element and its data type."
   ]
  },
  {
   "cell_type": "code",
   "execution_count": 1,
   "id": "fe2131c9-26bb-4132-a772-74b1668405ff",
   "metadata": {},
   "outputs": [
    {
     "name": "stdout",
     "output_type": "stream",
     "text": [
      "Data: 1 Type: <class 'int'>\n",
      "Data: 2 Type: <class 'int'>\n",
      "Data: 3 Type: <class 'int'>\n",
      "Data: 4 Type: <class 'int'>\n",
      "Data: 5 Type: <class 'int'>\n",
      "Data: python Type: <class 'str'>\n",
      "Data: data science Type: <class 'str'>\n",
      "Data: 2.0 Type: <class 'float'>\n",
      "Data: True Type: <class 'bool'>\n",
      "Data: False Type: <class 'bool'>\n"
     ]
    }
   ],
   "source": [
    "lis=[1,2,3,4,5,\"python\",\"data science\",2.0,True,False]\n",
    "for i in lis:\n",
    "    print(f\"Data: {i} Type: {type(i)}\")"
   ]
  },
  {
   "cell_type": "markdown",
   "id": "395d55a0-6aa1-4b8c-b18e-e543d47d3fd4",
   "metadata": {},
   "source": [
    "Q5. Using a while loop, verify if the number A is purely divisible by number B and if so then how many\n",
    "times it can be divisible."
   ]
  },
  {
   "cell_type": "code",
   "execution_count": 23,
   "id": "9c7a6bae-4765-4926-9595-a85813d6b085",
   "metadata": {},
   "outputs": [
    {
     "name": "stdin",
     "output_type": "stream",
     "text": [
      "Enter number A:  100\n",
      "Enter number B:  10\n"
     ]
    },
    {
     "name": "stdout",
     "output_type": "stream",
     "text": [
      "100 is divisible by 10 by 10 times\n"
     ]
    }
   ],
   "source": [
    "A=int(input(\"Enter number A: \"))\n",
    "A_cpy=A\n",
    "B=int(input(\"Enter number B: \"))\n",
    "count=0\n",
    "if A%B==0:\n",
    "    while (A>0): \n",
    "      count+=1 \n",
    "      A-=B;\n",
    "    print(f\"{A_cpy} is divisible by {B} by {count} times\")\n",
    "else:\n",
    "    print(f\"{A} is not divisible by {B}\")"
   ]
  },
  {
   "cell_type": "markdown",
   "id": "cacfe154-3094-46b3-a11b-bc3db70b7717",
   "metadata": {},
   "source": [
    "Q6. Create a list containing 25 int type data. Using for loop and if-else condition print if the element is\n",
    "divisible by 3 or not."
   ]
  },
  {
   "cell_type": "code",
   "execution_count": 10,
   "id": "7be61732-2d4a-4455-b846-084bd2c83ede",
   "metadata": {},
   "outputs": [
    {
     "name": "stdout",
     "output_type": "stream",
     "text": [
      "1 is not divisible by 3\n",
      "2 is not divisible by 3\n",
      "3 is divisible by 3\n",
      "4 is not divisible by 3\n",
      "5 is not divisible by 3\n",
      "6 is divisible by 3\n",
      "7 is not divisible by 3\n",
      "8 is not divisible by 3\n",
      "9 is divisible by 3\n",
      "10 is not divisible by 3\n",
      "11 is not divisible by 3\n",
      "12 is divisible by 3\n",
      "13 is not divisible by 3\n",
      "14 is not divisible by 3\n",
      "15 is divisible by 3\n",
      "16 is not divisible by 3\n",
      "17 is not divisible by 3\n",
      "18 is divisible by 3\n",
      "19 is not divisible by 3\n",
      "20 is not divisible by 3\n",
      "21 is divisible by 3\n",
      "22 is not divisible by 3\n",
      "23 is not divisible by 3\n",
      "24 is divisible by 3\n",
      "25 is not divisible by 3\n"
     ]
    }
   ],
   "source": [
    "li=list(range(1,26))\n",
    "for i in li:\n",
    "    if i%3==0:\n",
    "        print(f\"{i} is divisible by 3\")\n",
    "    else:\n",
    "        print(f\"{i} is not divisible by 3\")"
   ]
  },
  {
   "cell_type": "markdown",
   "id": "b762b628-adb5-433f-b2ad-2564b90842ab",
   "metadata": {},
   "source": [
    "Q7. What do you understand about mutable and immutable data types? Give examples for both showing\n",
    "this property."
   ]
  },
  {
   "cell_type": "markdown",
   "id": "11e0bb7e-4ddc-4bfd-bde7-654cac13c625",
   "metadata": {},
   "source": [
    "Mutable data types are the data types that allow addition, removal, modification of a data in a particular index.\n",
    "Ex: List is an mutable data type. We can add, remove, modify data present in a particular index\n",
    "    li=[1,2,3,4]\n",
    "    li.append(5) will add the data 5 at last\n",
    "    li[0]=6 this will modify the data present in the 0th index.\n",
    "    \n",
    "Immutable data types are the data types that doesn't allow Addition, removal, modification of a data.\n",
    "Ex: String and tuple are immutable data types. We cannot add, remove, modify the data.\n",
    "    st=\"python\"\n",
    "    st[0]=\"H\" this will throw an error."
   ]
  }
 ],
 "metadata": {
  "kernelspec": {
   "display_name": "Python 3 (ipykernel)",
   "language": "python",
   "name": "python3"
  },
  "language_info": {
   "codemirror_mode": {
    "name": "ipython",
    "version": 3
   },
   "file_extension": ".py",
   "mimetype": "text/x-python",
   "name": "python",
   "nbconvert_exporter": "python",
   "pygments_lexer": "ipython3",
   "version": "3.10.8"
  }
 },
 "nbformat": 4,
 "nbformat_minor": 5
}
