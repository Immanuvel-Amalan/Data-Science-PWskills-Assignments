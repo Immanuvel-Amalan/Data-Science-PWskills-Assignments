{
 "cells": [
  {
   "cell_type": "markdown",
   "id": "2cd17a8c",
   "metadata": {},
   "source": [
    "Q1. Explain Class and Object with respect to Object-Oriented Programming. Give a suitable example."
   ]
  },
  {
   "cell_type": "markdown",
   "id": "65598959",
   "metadata": {},
   "source": [
    "* Class is a blueprint from which objects can be created\n",
    "* Objects are an instances of a class\n"
   ]
  },
  {
   "cell_type": "code",
   "execution_count": 1,
   "id": "1b5af6a5",
   "metadata": {},
   "outputs": [],
   "source": [
    "# Class\n",
    "\n",
    "class Student:\n",
    "    def __init__(self,studentName,studentNumber):\n",
    "        self.studentName=studentName\n",
    "        self.studentNumber=studentNumber"
   ]
  },
  {
   "cell_type": "code",
   "execution_count": 2,
   "id": "a759784b",
   "metadata": {},
   "outputs": [],
   "source": [
    "# Object\n",
    "\n",
    "studentObject=Student(\"Immanuvel\",103)"
   ]
  },
  {
   "cell_type": "code",
   "execution_count": 3,
   "id": "7ecd7c0d",
   "metadata": {},
   "outputs": [
    {
     "data": {
      "text/plain": [
       "<__main__.Student at 0x239282737f0>"
      ]
     },
     "execution_count": 3,
     "metadata": {},
     "output_type": "execute_result"
    }
   ],
   "source": [
    "studentObject"
   ]
  },
  {
   "cell_type": "markdown",
   "id": "3df00d5b",
   "metadata": {},
   "source": [
    "Q2. Name the four pillars of OOPs."
   ]
  },
  {
   "cell_type": "markdown",
   "id": "6c3d2811",
   "metadata": {},
   "source": [
    "* Polymorphism\n",
    "* Inheritance\n",
    "* Abstraction\n",
    "* Encapsulation"
   ]
  },
  {
   "cell_type": "markdown",
   "id": "db7bbdf5",
   "metadata": {},
   "source": [
    "Q3. Explain why the __init__() function is used. Give a suitable example."
   ]
  },
  {
   "cell_type": "markdown",
   "id": "8d71696f",
   "metadata": {},
   "source": [
    "init() function is a constructor of a python class which will be called when a new object is created"
   ]
  },
  {
   "cell_type": "code",
   "execution_count": 7,
   "id": "7d97bcd5",
   "metadata": {},
   "outputs": [
    {
     "name": "stdout",
     "output_type": "stream",
     "text": [
      "Immanuvel\n",
      "103\n"
     ]
    }
   ],
   "source": [
    "# Example \n",
    "\n",
    "# Class\n",
    "\n",
    "class Student:\n",
    "    def __init__(self,studentName,studentNumber):\n",
    "        self.studentName=studentName\n",
    "        self.studentNumber=studentNumber\n",
    "        \n",
    "    def displayDetails(self):\n",
    "        print(self.studentName+\"\\n\"+str(self.studentNumber))\n",
    "# Object\n",
    "\n",
    "studentObject=Student(\"Immanuvel\",103)\n",
    "studentObject.displayDetails()"
   ]
  },
  {
   "cell_type": "markdown",
   "id": "325d0411",
   "metadata": {},
   "source": [
    "Q4. Why self is used in OOPs?"
   ]
  },
  {
   "cell_type": "markdown",
   "id": "9c3c65f8",
   "metadata": {},
   "source": [
    "Self is used to refer the current instance of a class"
   ]
  },
  {
   "cell_type": "markdown",
   "id": "641712bc",
   "metadata": {},
   "source": [
    "Q5. What is inheritance? Give an example for each type of inheritance."
   ]
  },
  {
   "cell_type": "markdown",
   "id": "83c589c7",
   "metadata": {},
   "source": [
    "Acquring base class property is know as inheritance. There are 4 types of inheritance in python they are\n",
    "\n",
    "* Single inheritance\n",
    "* Mulitiple inheritance\n",
    "* Multilevel inheritance\n",
    "* Hierarchical inheritance"
   ]
  },
  {
   "cell_type": "code",
   "execution_count": 11,
   "id": "c361cf0a",
   "metadata": {},
   "outputs": [],
   "source": [
    "# Single Inheritance\n",
    "\n",
    "class Parent:\n",
    "    pass\n",
    "class Child(Parent):\n",
    "    pass\n",
    "\n",
    "# Multiple Inheritance\n",
    "\n",
    "class Parent2:\n",
    "    pass\n",
    "class Child1:\n",
    "    pass\n",
    "class Child2(Parent2,Child1):\n",
    "    pass\n",
    "\n",
    "# Multilevel Inheritance\n",
    "\n",
    "class Parent3:\n",
    "    pass\n",
    "class Child3(Parent3):\n",
    "    pass\n",
    "class Child4(Child3):\n",
    "    pass\n",
    "\n",
    "# Hierarchical Inheritance\n",
    "\n",
    "class Parent4:\n",
    "    pass\n",
    "class Child5(Parent4):\n",
    "    pass\n",
    "class Child6(Parent4):\n",
    "    pass\n",
    "class Child7(Parent4):\n",
    "    pass"
   ]
  },
  {
   "cell_type": "code",
   "execution_count": null,
   "id": "93e6ab39",
   "metadata": {},
   "outputs": [],
   "source": []
  }
 ],
 "metadata": {
  "kernelspec": {
   "display_name": "Python 3 (ipykernel)",
   "language": "python",
   "name": "python3"
  },
  "language_info": {
   "codemirror_mode": {
    "name": "ipython",
    "version": 3
   },
   "file_extension": ".py",
   "mimetype": "text/x-python",
   "name": "python",
   "nbconvert_exporter": "python",
   "pygments_lexer": "ipython3",
   "version": "3.10.9"
  }
 },
 "nbformat": 4,
 "nbformat_minor": 5
}
